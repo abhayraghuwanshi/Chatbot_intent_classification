{
  "nbformat": 4,
  "nbformat_minor": 0,
  "metadata": {
    "colab": {
      "name": "cogno_ai.ipynb",
      "provenance": [],
      "authorship_tag": "ABX9TyPc99GbayAnT53oC/i07lXs",
      "include_colab_link": true
    },
    "kernelspec": {
      "name": "python3",
      "display_name": "Python 3"
    }
  },
  "cells": [
    {
      "cell_type": "markdown",
      "metadata": {
        "id": "view-in-github",
        "colab_type": "text"
      },
      "source": [
        "<a href=\"https://colab.research.google.com/github/abhayraghuwanshi/Chatbot_intent_classification/blob/main/cogno_ai.ipynb\" target=\"_parent\"><img src=\"https://colab.research.google.com/assets/colab-badge.svg\" alt=\"Open In Colab\"/></a>"
      ]
    },
    {
      "cell_type": "markdown",
      "metadata": {
        "id": "BsJtD2k3rdMB"
      },
      "source": [
        "<h1> Libraries Import</h1>"
      ]
    },
    {
      "cell_type": "code",
      "metadata": {
        "id": "SN9Pa8WXXF80"
      },
      "source": [
        "import pandas as pd\n",
        "import numpy as np\n",
        "from nltk.corpus import stopwords\n",
        "from nltk.tokenize import word_tokenize\n",
        "from nltk.stem.lancaster import LancasterStemmer\n",
        "import nltk\n",
        "import re\n",
        "from sklearn.preprocessing import OneHotEncoder\n",
        "import matplotlib.pyplot as plt\n",
        "from keras.preprocessing.text import Tokenizer\n",
        "from keras.preprocessing.sequence import pad_sequences\n",
        "from keras.utils import to_categorical\n",
        "from keras.models import Sequential, load_model\n",
        "from keras.layers import Dense, LSTM, Bidirectional, Embedding, Dropout\n",
        "from keras.callbacks import ModelCheckpoint"
      ],
      "execution_count": 9,
      "outputs": []
    },
    {
      "cell_type": "markdown",
      "metadata": {
        "id": "Bn-AqUGsqkxC"
      },
      "source": [
        "<h1>DATA IMPORTS</h1>"
      ]
    },
    {
      "cell_type": "code",
      "metadata": {
        "id": "OQQUB7rbYSnW",
        "colab": {
          "base_uri": "https://localhost:8080/"
        },
        "outputId": "e885baa5-b2fe-4e13-a8eb-d82d805f1d2c"
      },
      "source": [
        "from google.colab import drive\n",
        "drive.mount('/content/drive')"
      ],
      "execution_count": 2,
      "outputs": [
        {
          "output_type": "stream",
          "text": [
            "Mounted at /content/drive\n"
          ],
          "name": "stdout"
        }
      ]
    },
    {
      "cell_type": "code",
      "metadata": {
        "id": "7DgzTJQcTTVv"
      },
      "source": [
        "import os\n",
        "path = \"/content/drive/MyDrive/DATA/MachineLearningContest/\""
      ],
      "execution_count": 3,
      "outputs": []
    },
    {
      "cell_type": "code",
      "metadata": {
        "id": "CmmEsUDnXu17"
      },
      "source": [
        "train = pd.read_json(os.path.join(path, \"intents.json\"),  orient='Table')"
      ],
      "execution_count": 4,
      "outputs": []
    },
    {
      "cell_type": "code",
      "metadata": {
        "id": "zAK5R6JmYFEX"
      },
      "source": [
        "test = pd.read_excel(os.path.join(path, \"TestingData.xlsx\"))"
      ],
      "execution_count": 5,
      "outputs": []
    },
    {
      "cell_type": "code",
      "metadata": {
        "id": "RGgCgdrhpork",
        "colab": {
          "base_uri": "https://localhost:8080/"
        },
        "outputId": "1a22cdf0-8d14-439e-c50f-4840271f98db"
      },
      "source": [
        "len(train)"
      ],
      "execution_count": 6,
      "outputs": [
        {
          "output_type": "execute_result",
          "data": {
            "text/plain": [
              "203"
            ]
          },
          "metadata": {
            "tags": []
          },
          "execution_count": 6
        }
      ]
    },
    {
      "cell_type": "code",
      "metadata": {
        "id": "wxoy_QB3p32R"
      },
      "source": [
        "possible_intent = train[\"intent\"]"
      ],
      "execution_count": 7,
      "outputs": []
    },
    {
      "cell_type": "code",
      "metadata": {
        "id": "g4mK4qizYnzI",
        "colab": {
          "base_uri": "https://localhost:8080/",
          "height": 195
        },
        "outputId": "a3c74152-1ccf-4480-cff5-e573c2cd9061"
      },
      "source": [
        "test.head()"
      ],
      "execution_count": 8,
      "outputs": [
        {
          "output_type": "execute_result",
          "data": {
            "text/html": [
              "<div>\n",
              "<style scoped>\n",
              "    .dataframe tbody tr th:only-of-type {\n",
              "        vertical-align: middle;\n",
              "    }\n",
              "\n",
              "    .dataframe tbody tr th {\n",
              "        vertical-align: top;\n",
              "    }\n",
              "\n",
              "    .dataframe thead th {\n",
              "        text-align: right;\n",
              "    }\n",
              "</style>\n",
              "<table border=\"1\" class=\"dataframe\">\n",
              "  <thead>\n",
              "    <tr style=\"text-align: right;\">\n",
              "      <th></th>\n",
              "      <th>Test user queries</th>\n",
              "    </tr>\n",
              "  </thead>\n",
              "  <tbody>\n",
              "    <tr>\n",
              "      <th>0</th>\n",
              "      <td>My money deduct my account but not credit</td>\n",
              "    </tr>\n",
              "    <tr>\n",
              "      <th>1</th>\n",
              "      <td>passbook delivery courier</td>\n",
              "    </tr>\n",
              "    <tr>\n",
              "      <th>2</th>\n",
              "      <td>No</td>\n",
              "    </tr>\n",
              "    <tr>\n",
              "      <th>3</th>\n",
              "      <td>It shows me existing customer</td>\n",
              "    </tr>\n",
              "    <tr>\n",
              "      <th>4</th>\n",
              "      <td>Pasward block bata raha hai</td>\n",
              "    </tr>\n",
              "  </tbody>\n",
              "</table>\n",
              "</div>"
            ],
            "text/plain": [
              "                           Test user queries\n",
              "0  My money deduct my account but not credit\n",
              "1                  passbook delivery courier\n",
              "2                                         No\n",
              "3              It shows me existing customer\n",
              "4                Pasward block bata raha hai"
            ]
          },
          "metadata": {
            "tags": []
          },
          "execution_count": 8
        }
      ]
    },
    {
      "cell_type": "code",
      "metadata": {
        "id": "FJXGYBs7YqB3",
        "colab": {
          "base_uri": "https://localhost:8080/",
          "height": 195
        },
        "outputId": "97099bf8-c0ce-41a5-9e68-11cb08762b8b"
      },
      "source": [
        "train.head()"
      ],
      "execution_count": 10,
      "outputs": [
        {
          "output_type": "execute_result",
          "data": {
            "text/html": [
              "<div>\n",
              "<style scoped>\n",
              "    .dataframe tbody tr th:only-of-type {\n",
              "        vertical-align: middle;\n",
              "    }\n",
              "\n",
              "    .dataframe tbody tr th {\n",
              "        vertical-align: top;\n",
              "    }\n",
              "\n",
              "    .dataframe thead th {\n",
              "        text-align: right;\n",
              "    }\n",
              "</style>\n",
              "<table border=\"1\" class=\"dataframe\">\n",
              "  <thead>\n",
              "    <tr style=\"text-align: right;\">\n",
              "      <th></th>\n",
              "      <th>id</th>\n",
              "      <th>variations</th>\n",
              "      <th>intent</th>\n",
              "    </tr>\n",
              "  </thead>\n",
              "  <tbody>\n",
              "    <tr>\n",
              "      <th>0</th>\n",
              "      <td>995</td>\n",
              "      <td>{'0': 'Is there a procedure to open AllinCall ...</td>\n",
              "      <td>Can I open AllinCall bank online?</td>\n",
              "    </tr>\n",
              "    <tr>\n",
              "      <th>1</th>\n",
              "      <td>996</td>\n",
              "      <td>{'0': 'Explain the features of AllinCall bank ...</td>\n",
              "      <td>What are the features of AllinCall bank account?</td>\n",
              "    </tr>\n",
              "    <tr>\n",
              "      <th>2</th>\n",
              "      <td>997</td>\n",
              "      <td>{'0': 'What are the features of AllinCall bank...</td>\n",
              "      <td>What are the features of AllinCall bank Video ...</td>\n",
              "    </tr>\n",
              "    <tr>\n",
              "      <th>3</th>\n",
              "      <td>998</td>\n",
              "      <td>{'0': 'Am i allowed to open a joint AllinCall ...</td>\n",
              "      <td>Can I open a joint AllinCall bank account?</td>\n",
              "    </tr>\n",
              "    <tr>\n",
              "      <th>4</th>\n",
              "      <td>999</td>\n",
              "      <td>{'0': 'I don’t have a PAN', '1': 'how to open ...</td>\n",
              "      <td>I don’t have a PAN card</td>\n",
              "    </tr>\n",
              "  </tbody>\n",
              "</table>\n",
              "</div>"
            ],
            "text/plain": [
              "    id  ...                                             intent\n",
              "0  995  ...                  Can I open AllinCall bank online?\n",
              "1  996  ...   What are the features of AllinCall bank account?\n",
              "2  997  ...  What are the features of AllinCall bank Video ...\n",
              "3  998  ...         Can I open a joint AllinCall bank account?\n",
              "4  999  ...                            I don’t have a PAN card\n",
              "\n",
              "[5 rows x 3 columns]"
            ]
          },
          "metadata": {
            "tags": []
          },
          "execution_count": 10
        }
      ]
    },
    {
      "cell_type": "code",
      "metadata": {
        "id": "4d85k-YOaA5P"
      },
      "source": [
        "train[\"variations\"] = train.variations.apply(lambda x: list(x.values()))"
      ],
      "execution_count": 11,
      "outputs": []
    },
    {
      "cell_type": "code",
      "metadata": {
        "id": "pKKDoXTSajh5",
        "colab": {
          "base_uri": "https://localhost:8080/",
          "height": 195
        },
        "outputId": "5c37177f-b0a9-4d8f-8e28-f7e031b2cbb8"
      },
      "source": [
        "train.head()"
      ],
      "execution_count": 12,
      "outputs": [
        {
          "output_type": "execute_result",
          "data": {
            "text/html": [
              "<div>\n",
              "<style scoped>\n",
              "    .dataframe tbody tr th:only-of-type {\n",
              "        vertical-align: middle;\n",
              "    }\n",
              "\n",
              "    .dataframe tbody tr th {\n",
              "        vertical-align: top;\n",
              "    }\n",
              "\n",
              "    .dataframe thead th {\n",
              "        text-align: right;\n",
              "    }\n",
              "</style>\n",
              "<table border=\"1\" class=\"dataframe\">\n",
              "  <thead>\n",
              "    <tr style=\"text-align: right;\">\n",
              "      <th></th>\n",
              "      <th>id</th>\n",
              "      <th>variations</th>\n",
              "      <th>intent</th>\n",
              "    </tr>\n",
              "  </thead>\n",
              "  <tbody>\n",
              "    <tr>\n",
              "      <th>0</th>\n",
              "      <td>995</td>\n",
              "      <td>[Is there a procedure to open AllinCall bank o...</td>\n",
              "      <td>Can I open AllinCall bank online?</td>\n",
              "    </tr>\n",
              "    <tr>\n",
              "      <th>1</th>\n",
              "      <td>996</td>\n",
              "      <td>[Explain the features of AllinCall bank accoun...</td>\n",
              "      <td>What are the features of AllinCall bank account?</td>\n",
              "    </tr>\n",
              "    <tr>\n",
              "      <th>2</th>\n",
              "      <td>997</td>\n",
              "      <td>[What are the features of AllinCall bank Video...</td>\n",
              "      <td>What are the features of AllinCall bank Video ...</td>\n",
              "    </tr>\n",
              "    <tr>\n",
              "      <th>3</th>\n",
              "      <td>998</td>\n",
              "      <td>[Am i allowed to open a joint AllinCall bank a...</td>\n",
              "      <td>Can I open a joint AllinCall bank account?</td>\n",
              "    </tr>\n",
              "    <tr>\n",
              "      <th>4</th>\n",
              "      <td>999</td>\n",
              "      <td>[I don’t have a PAN, how to open an account if...</td>\n",
              "      <td>I don’t have a PAN card</td>\n",
              "    </tr>\n",
              "  </tbody>\n",
              "</table>\n",
              "</div>"
            ],
            "text/plain": [
              "    id  ...                                             intent\n",
              "0  995  ...                  Can I open AllinCall bank online?\n",
              "1  996  ...   What are the features of AllinCall bank account?\n",
              "2  997  ...  What are the features of AllinCall bank Video ...\n",
              "3  998  ...         Can I open a joint AllinCall bank account?\n",
              "4  999  ...                            I don’t have a PAN card\n",
              "\n",
              "[5 rows x 3 columns]"
            ]
          },
          "metadata": {
            "tags": []
          },
          "execution_count": 12
        }
      ]
    },
    {
      "cell_type": "code",
      "metadata": {
        "id": "zynIqA-DlJU4",
        "colab": {
          "base_uri": "https://localhost:8080/",
          "height": 195
        },
        "outputId": "7f2407cf-06f3-45da-bddb-961008db5b49"
      },
      "source": [
        "train = train.explode(\"variations\")\n",
        "train.head()"
      ],
      "execution_count": 13,
      "outputs": [
        {
          "output_type": "execute_result",
          "data": {
            "text/html": [
              "<div>\n",
              "<style scoped>\n",
              "    .dataframe tbody tr th:only-of-type {\n",
              "        vertical-align: middle;\n",
              "    }\n",
              "\n",
              "    .dataframe tbody tr th {\n",
              "        vertical-align: top;\n",
              "    }\n",
              "\n",
              "    .dataframe thead th {\n",
              "        text-align: right;\n",
              "    }\n",
              "</style>\n",
              "<table border=\"1\" class=\"dataframe\">\n",
              "  <thead>\n",
              "    <tr style=\"text-align: right;\">\n",
              "      <th></th>\n",
              "      <th>id</th>\n",
              "      <th>variations</th>\n",
              "      <th>intent</th>\n",
              "    </tr>\n",
              "  </thead>\n",
              "  <tbody>\n",
              "    <tr>\n",
              "      <th>0</th>\n",
              "      <td>995</td>\n",
              "      <td>Is there a procedure to open AllinCall bank on...</td>\n",
              "      <td>Can I open AllinCall bank online?</td>\n",
              "    </tr>\n",
              "    <tr>\n",
              "      <th>0</th>\n",
              "      <td>995</td>\n",
              "      <td>How to open AllinCall bank online</td>\n",
              "      <td>Can I open AllinCall bank online?</td>\n",
              "    </tr>\n",
              "    <tr>\n",
              "      <th>0</th>\n",
              "      <td>995</td>\n",
              "      <td>Can I open AllinCall bank online?</td>\n",
              "      <td>Can I open AllinCall bank online?</td>\n",
              "    </tr>\n",
              "    <tr>\n",
              "      <th>1</th>\n",
              "      <td>996</td>\n",
              "      <td>Explain the features of AllinCall bank account</td>\n",
              "      <td>What are the features of AllinCall bank account?</td>\n",
              "    </tr>\n",
              "    <tr>\n",
              "      <th>1</th>\n",
              "      <td>996</td>\n",
              "      <td>Tellme about the features of AllinCall bank ac...</td>\n",
              "      <td>What are the features of AllinCall bank account?</td>\n",
              "    </tr>\n",
              "  </tbody>\n",
              "</table>\n",
              "</div>"
            ],
            "text/plain": [
              "    id  ...                                            intent\n",
              "0  995  ...                 Can I open AllinCall bank online?\n",
              "0  995  ...                 Can I open AllinCall bank online?\n",
              "0  995  ...                 Can I open AllinCall bank online?\n",
              "1  996  ...  What are the features of AllinCall bank account?\n",
              "1  996  ...  What are the features of AllinCall bank account?\n",
              "\n",
              "[5 rows x 3 columns]"
            ]
          },
          "metadata": {
            "tags": []
          },
          "execution_count": 13
        }
      ]
    },
    {
      "cell_type": "markdown",
      "metadata": {
        "id": "qd3Jlpt4qtrL"
      },
      "source": [
        "<h1> DATA CLEANING</h1>"
      ]
    },
    {
      "cell_type": "code",
      "metadata": {
        "id": "QrzjvFoFlr8A",
        "colab": {
          "base_uri": "https://localhost:8080/"
        },
        "outputId": "a39945f1-4c1e-4920-990f-37a5b78ced50"
      },
      "source": [
        "nltk.download(\"stopwords\")\n",
        "nltk.download(\"punkt\")"
      ],
      "execution_count": 14,
      "outputs": [
        {
          "output_type": "stream",
          "text": [
            "[nltk_data] Downloading package stopwords to /root/nltk_data...\n",
            "[nltk_data]   Unzipping corpora/stopwords.zip.\n",
            "[nltk_data] Downloading package punkt to /root/nltk_data...\n",
            "[nltk_data]   Unzipping tokenizers/punkt.zip.\n"
          ],
          "name": "stdout"
        },
        {
          "output_type": "execute_result",
          "data": {
            "text/plain": [
              "True"
            ]
          },
          "metadata": {
            "tags": []
          },
          "execution_count": 14
        }
      ]
    },
    {
      "cell_type": "code",
      "metadata": {
        "id": "VDR8fbv-bm22"
      },
      "source": [
        "def cleaning(sentences):\n",
        "  words = []\n",
        "  for s in sentences:\n",
        "    clean = re.sub(r'[^ a-z A-Z 0-9]', \" \", s)\n",
        "    w = word_tokenize(clean)\n",
        "    #stemming\n",
        "    words.append([i.lower() for i in w])\n",
        "    \n",
        "  return words"
      ],
      "execution_count": 15,
      "outputs": []
    },
    {
      "cell_type": "code",
      "metadata": {
        "id": "1bywyZJNkuXR",
        "colab": {
          "base_uri": "https://localhost:8080/"
        },
        "outputId": "6cd53236-bd21-4e13-f7c4-b2fa79227f74"
      },
      "source": [
        "cleaned_words = cleaning(train[\"variations\"])\n",
        "print(len(cleaned_words))\n",
        "print(cleaned_words[:2])"
      ],
      "execution_count": 16,
      "outputs": [
        {
          "output_type": "stream",
          "text": [
            "1563\n",
            "[['is', 'there', 'a', 'procedure', 'to', 'open', 'allincall', 'bank', 'online'], ['how', 'to', 'open', 'allincall', 'bank', 'online']]\n"
          ],
          "name": "stdout"
        }
      ]
    },
    {
      "cell_type": "markdown",
      "metadata": {
        "id": "Ps6YvWqA1FZa"
      },
      "source": [
        "<h3> Tokenizing</h3>"
      ]
    },
    {
      "cell_type": "code",
      "metadata": {
        "id": "cGZQX-ytjgJ3"
      },
      "source": [
        "#creating tokenizer\n",
        "def create_tokenizer(words,\n",
        "                  filters = '!\"#$%&()*+,-./:;<=>?@[\\]^_`{|}~'):\n",
        "  token = Tokenizer(filters = filters)\n",
        "  token.fit_on_texts(words)\n",
        "  return token"
      ],
      "execution_count": 17,
      "outputs": []
    },
    {
      "cell_type": "code",
      "metadata": {
        "id": "-7i_BHolmGDZ"
      },
      "source": [
        "#getting maximum length\n",
        "def max_length(words):\n",
        "  return(len(max(words, key = len)))"
      ],
      "execution_count": 18,
      "outputs": []
    },
    {
      "cell_type": "code",
      "metadata": {
        "id": "wS3dmGixmKWc",
        "colab": {
          "base_uri": "https://localhost:8080/"
        },
        "outputId": "8187c6f3-e03e-4e5b-d6b9-b95675df916a"
      },
      "source": [
        "word_tokenizer = create_tokenizer(cleaned_words)\n",
        "vocab_size = len(word_tokenizer.word_index) + 1\n",
        "max_length = max_length(cleaned_words)\n",
        "\n",
        "print(\"Vocab Size = %d and Maximum length = %d\" % (vocab_size, max_length))"
      ],
      "execution_count": 19,
      "outputs": [
        {
          "output_type": "stream",
          "text": [
            "Vocab Size = 561 and Maximum length = 37\n"
          ],
          "name": "stdout"
        }
      ]
    },
    {
      "cell_type": "code",
      "metadata": {
        "id": "oMICZBZqmH_q"
      },
      "source": [
        "#encoding list of words\n",
        "def encoding_doc(token, words):\n",
        "  return(token.texts_to_sequences(words))"
      ],
      "execution_count": 20,
      "outputs": []
    },
    {
      "cell_type": "code",
      "metadata": {
        "id": "G9OHkZH7mSji"
      },
      "source": [
        "encoded_doc = encoding_doc(word_tokenizer, cleaned_words)\n"
      ],
      "execution_count": 21,
      "outputs": []
    },
    {
      "cell_type": "markdown",
      "metadata": {
        "id": "dNxs1Wo4r7Sq"
      },
      "source": [
        "<h2>Padding </h2>"
      ]
    },
    {
      "cell_type": "code",
      "metadata": {
        "id": "MTM4pZAtjoJG"
      },
      "source": [
        "def padding_doc(encoded_doc, max_length):\n",
        "  return(pad_sequences(encoded_doc, maxlen = max_length,\n",
        "                        padding =   \"post\"))"
      ],
      "execution_count": 22,
      "outputs": []
    },
    {
      "cell_type": "code",
      "metadata": {
        "id": "YPzQEJKCkhSc"
      },
      "source": [
        "padded_doc = padding_doc(encoded_doc, max_length)"
      ],
      "execution_count": 23,
      "outputs": []
    },
    {
      "cell_type": "code",
      "metadata": {
        "id": "VbwpFwvImXsc",
        "colab": {
          "base_uri": "https://localhost:8080/"
        },
        "outputId": "63fa3c9b-ee0a-4fba-e02d-1cb5bcc9ad3f"
      },
      "source": [
        "padded_doc[:5]"
      ],
      "execution_count": 24,
      "outputs": [
        {
          "output_type": "execute_result",
          "data": {
            "text/plain": [
              "array([[ 14, 164,  24, 288,   2,  30,   6,  17,  49,   0,   0,   0,   0,\n",
              "          0,   0,   0,   0,   0,   0,   0,   0,   0,   0,   0,   0,   0,\n",
              "          0,   0,   0,   0,   0,   0,   0,   0,   0,   0,   0],\n",
              "       [  7,   2,  30,   6,  17,  49,   0,   0,   0,   0,   0,   0,   0,\n",
              "          0,   0,   0,   0,   0,   0,   0,   0,   0,   0,   0,   0,   0,\n",
              "          0,   0,   0,   0,   0,   0,   0,   0,   0,   0,   0],\n",
              "       [  4,   1,  30,   6,  17,  49,   0,   0,   0,   0,   0,   0,   0,\n",
              "          0,   0,   0,   0,   0,   0,   0,   0,   0,   0,   0,   0,   0,\n",
              "          0,   0,   0,   0,   0,   0,   0,   0,   0,   0,   0],\n",
              "       [ 26,   3,  50,  13,   6,  17,  10,   0,   0,   0,   0,   0,   0,\n",
              "          0,   0,   0,   0,   0,   0,   0,   0,   0,   0,   0,   0,   0,\n",
              "          0,   0,   0,   0,   0,   0,   0,   0,   0,   0,   0],\n",
              "       [384,   8,   3,  50,  13,   6,  17,  10,   0,   0,   0,   0,   0,\n",
              "          0,   0,   0,   0,   0,   0,   0,   0,   0,   0,   0,   0,   0,\n",
              "          0,   0,   0,   0,   0,   0,   0,   0,   0,   0,   0]],\n",
              "      dtype=int32)"
            ]
          },
          "metadata": {
            "tags": []
          },
          "execution_count": 24
        }
      ]
    },
    {
      "cell_type": "code",
      "metadata": {
        "id": "WJxVUlK_mak4",
        "colab": {
          "base_uri": "https://localhost:8080/"
        },
        "outputId": "291f4b04-2eb9-4e59-9541-b8f41ff6a329"
      },
      "source": [
        "print(\"Shape of padded docs = \",padded_doc.shape)"
      ],
      "execution_count": 25,
      "outputs": [
        {
          "output_type": "stream",
          "text": [
            "Shape of padded docs =  (1563, 37)\n"
          ],
          "name": "stdout"
        }
      ]
    },
    {
      "cell_type": "markdown",
      "metadata": {
        "id": "0RYflBli08oq"
      },
      "source": [
        "<h3> Intent Data Encoding </h3>"
      ]
    },
    {
      "cell_type": "code",
      "metadata": {
        "id": "OgjKl7d2y9_H"
      },
      "source": [
        "out = pd.DataFrame(train.intent)\n",
        "def one_hot(encode):\n",
        "  o = OneHotEncoder(sparse = False).fit(encode)\n",
        "  return(o.transform(encode), o.categories_)"
      ],
      "execution_count": 30,
      "outputs": []
    },
    {
      "cell_type": "code",
      "metadata": {
        "id": "s7LZqKpdhhaM"
      },
      "source": [
        "output_one_hot, output_col = one_hot(out)"
      ],
      "execution_count": 31,
      "outputs": []
    },
    {
      "cell_type": "code",
      "metadata": {
        "id": "VKGLdTTE38ro",
        "colab": {
          "base_uri": "https://localhost:8080/"
        },
        "outputId": "05864afc-270d-4f74-f900-3de55052a609"
      },
      "source": [
        "len(output_col[0])"
      ],
      "execution_count": 34,
      "outputs": [
        {
          "output_type": "execute_result",
          "data": {
            "text/plain": [
              "203"
            ]
          },
          "metadata": {
            "tags": []
          },
          "execution_count": 34
        }
      ]
    },
    {
      "cell_type": "markdown",
      "metadata": {
        "id": "v8-AZf3H1U_b"
      },
      "source": [
        "<h3> Train_test_split</h3>"
      ]
    },
    {
      "cell_type": "code",
      "metadata": {
        "id": "xBT6OghDnUsN"
      },
      "source": [
        "from sklearn.model_selection import train_test_split"
      ],
      "execution_count": 35,
      "outputs": []
    },
    {
      "cell_type": "code",
      "metadata": {
        "id": "8DFnofyYnW68"
      },
      "source": [
        "train_X, val_X, train_Y, val_Y = train_test_split(padded_doc, output_one_hot, shuffle = True, test_size = 0.2)"
      ],
      "execution_count": 36,
      "outputs": []
    },
    {
      "cell_type": "code",
      "metadata": {
        "id": "90PJYe4fnaFk",
        "colab": {
          "base_uri": "https://localhost:8080/"
        },
        "outputId": "203b10cc-9f21-4be8-c4a1-5eb3df6fd3b2"
      },
      "source": [
        "print(\"Shape of train_X = %s and train_Y = %s\" % (train_X.shape, train_Y.shape))\n",
        "print(\"Shape of val_X = %s and val_Y = %s\" % (val_X.shape, val_Y.shape))"
      ],
      "execution_count": 37,
      "outputs": [
        {
          "output_type": "stream",
          "text": [
            "Shape of train_X = (1250, 37) and train_Y = (1250, 203)\n",
            "Shape of val_X = (313, 37) and val_Y = (313, 203)\n"
          ],
          "name": "stdout"
        }
      ]
    },
    {
      "cell_type": "markdown",
      "metadata": {
        "id": "aWDVNr0I1dov"
      },
      "source": [
        "<h1> Model </h1>"
      ]
    },
    {
      "cell_type": "code",
      "metadata": {
        "id": "eziM921enc5Z"
      },
      "source": [
        "def create_model(vocab_size, max_length):\n",
        "  model = Sequential()\n",
        "  model.add(Embedding(vocab_size, 128, input_length = max_length, trainable = False))\n",
        "  model.add(Bidirectional(LSTM(128)))\n",
        "#   model.add(LSTM(128))\n",
        " # model.add(Dense(32, activation = \"relu\"))\n",
        "  #model.add(Dropout(0.5))\n",
        "  model.add(Dense(203, activation = \"softmax\"))\n",
        "  \n",
        "  return model"
      ],
      "execution_count": 38,
      "outputs": []
    },
    {
      "cell_type": "code",
      "metadata": {
        "id": "ENci2UdenjtG",
        "colab": {
          "base_uri": "https://localhost:8080/"
        },
        "outputId": "b7bc0a80-db88-44b8-aaf9-90c39e2f04ea"
      },
      "source": [
        "model = create_model(vocab_size, max_length)\n",
        "\n",
        "model.compile(loss = \"categorical_crossentropy\", optimizer = \"adam\", metrics = [\"accuracy\"])\n",
        "model.summary()"
      ],
      "execution_count": 39,
      "outputs": [
        {
          "output_type": "stream",
          "text": [
            "Model: \"sequential\"\n",
            "_________________________________________________________________\n",
            "Layer (type)                 Output Shape              Param #   \n",
            "=================================================================\n",
            "embedding (Embedding)        (None, 37, 128)           71808     \n",
            "_________________________________________________________________\n",
            "bidirectional (Bidirectional (None, 256)               263168    \n",
            "_________________________________________________________________\n",
            "dense (Dense)                (None, 203)               52171     \n",
            "=================================================================\n",
            "Total params: 387,147\n",
            "Trainable params: 315,339\n",
            "Non-trainable params: 71,808\n",
            "_________________________________________________________________\n"
          ],
          "name": "stdout"
        }
      ]
    },
    {
      "cell_type": "code",
      "metadata": {
        "id": "GoZ529Srnq8g",
        "colab": {
          "base_uri": "https://localhost:8080/"
        },
        "outputId": "279692fe-3600-45d5-cee9-460b07ac797c"
      },
      "source": [
        "filename = 'model.h5'\n",
        "checkpoint = ModelCheckpoint(filename, monitor='val_loss', verbose=1, save_best_only=True, mode='min')\n",
        "\n",
        "hist = model.fit(train_X, train_Y, epochs = 100, batch_size = 32, validation_data = (val_X, val_Y), callbacks = [checkpoint])"
      ],
      "execution_count": 40,
      "outputs": [
        {
          "output_type": "stream",
          "text": [
            "Epoch 1/100\n",
            "39/40 [============================>.] - ETA: 0s - loss: 5.3013 - accuracy: 0.0112\n",
            "Epoch 00001: val_loss improved from inf to 5.28075, saving model to model.h5\n",
            "40/40 [==============================] - 4s 99ms/step - loss: 5.3014 - accuracy: 0.0112 - val_loss: 5.2807 - val_accuracy: 0.0096\n",
            "Epoch 2/100\n",
            "39/40 [============================>.] - ETA: 0s - loss: 5.1911 - accuracy: 0.0200\n",
            "Epoch 00002: val_loss improved from 5.28075 to 5.18288, saving model to model.h5\n",
            "40/40 [==============================] - 3s 76ms/step - loss: 5.1904 - accuracy: 0.0200 - val_loss: 5.1829 - val_accuracy: 0.0256\n",
            "Epoch 3/100\n",
            "39/40 [============================>.] - ETA: 0s - loss: 4.9578 - accuracy: 0.0248\n",
            "Epoch 00003: val_loss improved from 5.18288 to 4.98587, saving model to model.h5\n",
            "40/40 [==============================] - 3s 77ms/step - loss: 4.9578 - accuracy: 0.0248 - val_loss: 4.9859 - val_accuracy: 0.0319\n",
            "Epoch 4/100\n",
            "39/40 [============================>.] - ETA: 0s - loss: 4.7705 - accuracy: 0.0345\n",
            "Epoch 00004: val_loss improved from 4.98587 to 4.91577, saving model to model.h5\n",
            "40/40 [==============================] - 3s 76ms/step - loss: 4.7713 - accuracy: 0.0344 - val_loss: 4.9158 - val_accuracy: 0.0256\n",
            "Epoch 5/100\n",
            "39/40 [============================>.] - ETA: 0s - loss: 4.6430 - accuracy: 0.0401\n",
            "Epoch 00005: val_loss improved from 4.91577 to 4.83170, saving model to model.h5\n",
            "40/40 [==============================] - 3s 75ms/step - loss: 4.6424 - accuracy: 0.0400 - val_loss: 4.8317 - val_accuracy: 0.0319\n",
            "Epoch 6/100\n",
            "40/40 [==============================] - ETA: 0s - loss: 4.5855 - accuracy: 0.0360\n",
            "Epoch 00006: val_loss improved from 4.83170 to 4.81467, saving model to model.h5\n",
            "40/40 [==============================] - 3s 76ms/step - loss: 4.5855 - accuracy: 0.0360 - val_loss: 4.8147 - val_accuracy: 0.0256\n",
            "Epoch 7/100\n",
            "39/40 [============================>.] - ETA: 0s - loss: 4.5573 - accuracy: 0.0329\n",
            "Epoch 00007: val_loss did not improve from 4.81467\n",
            "40/40 [==============================] - 3s 76ms/step - loss: 4.5587 - accuracy: 0.0328 - val_loss: 4.8333 - val_accuracy: 0.0383\n",
            "Epoch 8/100\n",
            "39/40 [============================>.] - ETA: 0s - loss: 4.5155 - accuracy: 0.0449\n",
            "Epoch 00008: val_loss improved from 4.81467 to 4.76798, saving model to model.h5\n",
            "40/40 [==============================] - 3s 76ms/step - loss: 4.5150 - accuracy: 0.0448 - val_loss: 4.7680 - val_accuracy: 0.0415\n",
            "Epoch 9/100\n",
            "39/40 [============================>.] - ETA: 0s - loss: 4.4321 - accuracy: 0.0377\n",
            "Epoch 00009: val_loss did not improve from 4.76798\n",
            "40/40 [==============================] - 3s 75ms/step - loss: 4.4311 - accuracy: 0.0376 - val_loss: 4.7853 - val_accuracy: 0.0415\n",
            "Epoch 10/100\n",
            "39/40 [============================>.] - ETA: 0s - loss: 4.3913 - accuracy: 0.0465\n",
            "Epoch 00010: val_loss improved from 4.76798 to 4.75932, saving model to model.h5\n",
            "40/40 [==============================] - 3s 76ms/step - loss: 4.3915 - accuracy: 0.0464 - val_loss: 4.7593 - val_accuracy: 0.0288\n",
            "Epoch 11/100\n",
            "39/40 [============================>.] - ETA: 0s - loss: 4.3766 - accuracy: 0.0401\n",
            "Epoch 00011: val_loss improved from 4.75932 to 4.72756, saving model to model.h5\n",
            "40/40 [==============================] - 3s 77ms/step - loss: 4.3763 - accuracy: 0.0400 - val_loss: 4.7276 - val_accuracy: 0.0447\n",
            "Epoch 12/100\n",
            "40/40 [==============================] - ETA: 0s - loss: 4.3296 - accuracy: 0.0536\n",
            "Epoch 00012: val_loss did not improve from 4.72756\n",
            "40/40 [==============================] - 3s 75ms/step - loss: 4.3296 - accuracy: 0.0536 - val_loss: 4.7728 - val_accuracy: 0.0383\n",
            "Epoch 13/100\n",
            "39/40 [============================>.] - ETA: 0s - loss: 4.2988 - accuracy: 0.0481\n",
            "Epoch 00013: val_loss improved from 4.72756 to 4.71822, saving model to model.h5\n",
            "40/40 [==============================] - 3s 77ms/step - loss: 4.3000 - accuracy: 0.0480 - val_loss: 4.7182 - val_accuracy: 0.0288\n",
            "Epoch 14/100\n",
            "39/40 [============================>.] - ETA: 0s - loss: 4.2673 - accuracy: 0.0601\n",
            "Epoch 00014: val_loss improved from 4.71822 to 4.71548, saving model to model.h5\n",
            "40/40 [==============================] - 3s 76ms/step - loss: 4.2655 - accuracy: 0.0600 - val_loss: 4.7155 - val_accuracy: 0.0543\n",
            "Epoch 15/100\n",
            "39/40 [============================>.] - ETA: 0s - loss: 4.2101 - accuracy: 0.0601\n",
            "Epoch 00015: val_loss improved from 4.71548 to 4.65609, saving model to model.h5\n",
            "40/40 [==============================] - 3s 77ms/step - loss: 4.2094 - accuracy: 0.0608 - val_loss: 4.6561 - val_accuracy: 0.0447\n",
            "Epoch 16/100\n",
            "39/40 [============================>.] - ETA: 0s - loss: 4.1527 - accuracy: 0.0625\n",
            "Epoch 00016: val_loss did not improve from 4.65609\n",
            "40/40 [==============================] - 3s 76ms/step - loss: 4.1521 - accuracy: 0.0624 - val_loss: 4.6822 - val_accuracy: 0.0351\n",
            "Epoch 17/100\n",
            "39/40 [============================>.] - ETA: 0s - loss: 4.0737 - accuracy: 0.0753\n",
            "Epoch 00017: val_loss did not improve from 4.65609\n",
            "40/40 [==============================] - 3s 76ms/step - loss: 4.0740 - accuracy: 0.0752 - val_loss: 4.7145 - val_accuracy: 0.0415\n",
            "Epoch 18/100\n",
            "39/40 [============================>.] - ETA: 0s - loss: 4.0308 - accuracy: 0.0857\n",
            "Epoch 00018: val_loss improved from 4.65609 to 4.46505, saving model to model.h5\n",
            "40/40 [==============================] - 3s 76ms/step - loss: 4.0304 - accuracy: 0.0856 - val_loss: 4.4651 - val_accuracy: 0.0415\n",
            "Epoch 19/100\n",
            "39/40 [============================>.] - ETA: 0s - loss: 3.8806 - accuracy: 0.0905\n",
            "Epoch 00019: val_loss improved from 4.46505 to 4.40112, saving model to model.h5\n",
            "40/40 [==============================] - 3s 78ms/step - loss: 3.8797 - accuracy: 0.0912 - val_loss: 4.4011 - val_accuracy: 0.0767\n",
            "Epoch 20/100\n",
            "40/40 [==============================] - ETA: 0s - loss: 3.7295 - accuracy: 0.1232\n",
            "Epoch 00020: val_loss improved from 4.40112 to 4.23907, saving model to model.h5\n",
            "40/40 [==============================] - 3s 78ms/step - loss: 3.7295 - accuracy: 0.1232 - val_loss: 4.2391 - val_accuracy: 0.0895\n",
            "Epoch 21/100\n",
            "39/40 [============================>.] - ETA: 0s - loss: 3.6312 - accuracy: 0.1338\n",
            "Epoch 00021: val_loss improved from 4.23907 to 4.15363, saving model to model.h5\n",
            "40/40 [==============================] - 3s 77ms/step - loss: 3.6316 - accuracy: 0.1336 - val_loss: 4.1536 - val_accuracy: 0.1054\n",
            "Epoch 22/100\n",
            "39/40 [============================>.] - ETA: 0s - loss: 3.4771 - accuracy: 0.1779\n",
            "Epoch 00022: val_loss improved from 4.15363 to 4.08368, saving model to model.h5\n",
            "40/40 [==============================] - 3s 77ms/step - loss: 3.4778 - accuracy: 0.1776 - val_loss: 4.0837 - val_accuracy: 0.0863\n",
            "Epoch 23/100\n",
            "40/40 [==============================] - ETA: 0s - loss: 3.3364 - accuracy: 0.2216\n",
            "Epoch 00023: val_loss improved from 4.08368 to 3.97577, saving model to model.h5\n",
            "40/40 [==============================] - 3s 80ms/step - loss: 3.3364 - accuracy: 0.2216 - val_loss: 3.9758 - val_accuracy: 0.1278\n",
            "Epoch 24/100\n",
            "39/40 [============================>.] - ETA: 0s - loss: 3.1770 - accuracy: 0.2668\n",
            "Epoch 00024: val_loss improved from 3.97577 to 3.84253, saving model to model.h5\n",
            "40/40 [==============================] - 3s 76ms/step - loss: 3.1770 - accuracy: 0.2672 - val_loss: 3.8425 - val_accuracy: 0.1661\n",
            "Epoch 25/100\n",
            "39/40 [============================>.] - ETA: 0s - loss: 3.1258 - accuracy: 0.2716\n",
            "Epoch 00025: val_loss improved from 3.84253 to 3.57479, saving model to model.h5\n",
            "40/40 [==============================] - 3s 76ms/step - loss: 3.1253 - accuracy: 0.2728 - val_loss: 3.5748 - val_accuracy: 0.2396\n",
            "Epoch 26/100\n",
            "39/40 [============================>.] - ETA: 0s - loss: 2.8335 - accuracy: 0.3486\n",
            "Epoch 00026: val_loss improved from 3.57479 to 3.35849, saving model to model.h5\n",
            "40/40 [==============================] - 3s 77ms/step - loss: 2.8314 - accuracy: 0.3496 - val_loss: 3.3585 - val_accuracy: 0.3163\n",
            "Epoch 27/100\n",
            "39/40 [============================>.] - ETA: 0s - loss: 2.6495 - accuracy: 0.4062\n",
            "Epoch 00027: val_loss did not improve from 3.35849\n",
            "40/40 [==============================] - 3s 77ms/step - loss: 2.6495 - accuracy: 0.4064 - val_loss: 3.3780 - val_accuracy: 0.2907\n",
            "Epoch 28/100\n",
            "39/40 [============================>.] - ETA: 0s - loss: 2.6329 - accuracy: 0.4046\n",
            "Epoch 00028: val_loss improved from 3.35849 to 3.14705, saving model to model.h5\n",
            "40/40 [==============================] - 3s 77ms/step - loss: 2.6340 - accuracy: 0.4040 - val_loss: 3.1471 - val_accuracy: 0.3387\n",
            "Epoch 29/100\n",
            "39/40 [============================>.] - ETA: 0s - loss: 2.4148 - accuracy: 0.4752\n",
            "Epoch 00029: val_loss improved from 3.14705 to 2.91887, saving model to model.h5\n",
            "40/40 [==============================] - 3s 77ms/step - loss: 2.4157 - accuracy: 0.4744 - val_loss: 2.9189 - val_accuracy: 0.4185\n",
            "Epoch 30/100\n",
            "39/40 [============================>.] - ETA: 0s - loss: 2.2412 - accuracy: 0.5160\n",
            "Epoch 00030: val_loss improved from 2.91887 to 2.75572, saving model to model.h5\n",
            "40/40 [==============================] - 3s 78ms/step - loss: 2.2401 - accuracy: 0.5160 - val_loss: 2.7557 - val_accuracy: 0.4537\n",
            "Epoch 31/100\n",
            "39/40 [============================>.] - ETA: 0s - loss: 2.0808 - accuracy: 0.5585\n",
            "Epoch 00031: val_loss improved from 2.75572 to 2.73862, saving model to model.h5\n",
            "40/40 [==============================] - 3s 77ms/step - loss: 2.0815 - accuracy: 0.5584 - val_loss: 2.7386 - val_accuracy: 0.4409\n",
            "Epoch 32/100\n",
            "40/40 [==============================] - ETA: 0s - loss: 1.9507 - accuracy: 0.5856\n",
            "Epoch 00032: val_loss improved from 2.73862 to 2.54912, saving model to model.h5\n",
            "40/40 [==============================] - 3s 78ms/step - loss: 1.9507 - accuracy: 0.5856 - val_loss: 2.5491 - val_accuracy: 0.5016\n",
            "Epoch 33/100\n",
            "40/40 [==============================] - ETA: 0s - loss: 1.8265 - accuracy: 0.6032\n",
            "Epoch 00033: val_loss improved from 2.54912 to 2.44605, saving model to model.h5\n",
            "40/40 [==============================] - 3s 77ms/step - loss: 1.8265 - accuracy: 0.6032 - val_loss: 2.4460 - val_accuracy: 0.5272\n",
            "Epoch 34/100\n",
            "39/40 [============================>.] - ETA: 0s - loss: 1.7029 - accuracy: 0.6354\n",
            "Epoch 00034: val_loss improved from 2.44605 to 2.36652, saving model to model.h5\n",
            "40/40 [==============================] - 3s 77ms/step - loss: 1.7022 - accuracy: 0.6360 - val_loss: 2.3665 - val_accuracy: 0.5016\n",
            "Epoch 35/100\n",
            "39/40 [============================>.] - ETA: 0s - loss: 1.6161 - accuracy: 0.6571\n",
            "Epoch 00035: val_loss improved from 2.36652 to 2.24473, saving model to model.h5\n",
            "40/40 [==============================] - 3s 78ms/step - loss: 1.6166 - accuracy: 0.6576 - val_loss: 2.2447 - val_accuracy: 0.5495\n",
            "Epoch 36/100\n",
            "39/40 [============================>.] - ETA: 0s - loss: 1.5865 - accuracy: 0.6554\n",
            "Epoch 00036: val_loss did not improve from 2.24473\n",
            "40/40 [==============================] - 3s 76ms/step - loss: 1.5859 - accuracy: 0.6560 - val_loss: 2.2624 - val_accuracy: 0.5495\n",
            "Epoch 37/100\n",
            "39/40 [============================>.] - ETA: 0s - loss: 1.4633 - accuracy: 0.6979\n",
            "Epoch 00037: val_loss improved from 2.24473 to 2.14948, saving model to model.h5\n",
            "40/40 [==============================] - 3s 79ms/step - loss: 1.4672 - accuracy: 0.6968 - val_loss: 2.1495 - val_accuracy: 0.5623\n",
            "Epoch 38/100\n",
            "40/40 [==============================] - ETA: 0s - loss: 1.3445 - accuracy: 0.7144\n",
            "Epoch 00038: val_loss improved from 2.14948 to 2.05722, saving model to model.h5\n",
            "40/40 [==============================] - 3s 76ms/step - loss: 1.3445 - accuracy: 0.7144 - val_loss: 2.0572 - val_accuracy: 0.5783\n",
            "Epoch 39/100\n",
            "39/40 [============================>.] - ETA: 0s - loss: 1.2800 - accuracy: 0.7348\n",
            "Epoch 00039: val_loss improved from 2.05722 to 1.94333, saving model to model.h5\n",
            "40/40 [==============================] - 3s 77ms/step - loss: 1.2792 - accuracy: 0.7352 - val_loss: 1.9433 - val_accuracy: 0.6070\n",
            "Epoch 40/100\n",
            "40/40 [==============================] - ETA: 0s - loss: 1.1969 - accuracy: 0.7528\n",
            "Epoch 00040: val_loss improved from 1.94333 to 1.90905, saving model to model.h5\n",
            "40/40 [==============================] - 3s 79ms/step - loss: 1.1969 - accuracy: 0.7528 - val_loss: 1.9090 - val_accuracy: 0.6038\n",
            "Epoch 41/100\n",
            "39/40 [============================>.] - ETA: 0s - loss: 1.1326 - accuracy: 0.7628\n",
            "Epoch 00041: val_loss improved from 1.90905 to 1.80932, saving model to model.h5\n",
            "40/40 [==============================] - 3s 78ms/step - loss: 1.1329 - accuracy: 0.7632 - val_loss: 1.8093 - val_accuracy: 0.6390\n",
            "Epoch 42/100\n",
            "40/40 [==============================] - ETA: 0s - loss: 1.1135 - accuracy: 0.7792\n",
            "Epoch 00042: val_loss improved from 1.80932 to 1.79023, saving model to model.h5\n",
            "40/40 [==============================] - 3s 78ms/step - loss: 1.1135 - accuracy: 0.7792 - val_loss: 1.7902 - val_accuracy: 0.6326\n",
            "Epoch 43/100\n",
            "39/40 [============================>.] - ETA: 0s - loss: 1.0293 - accuracy: 0.7925\n",
            "Epoch 00043: val_loss did not improve from 1.79023\n",
            "40/40 [==============================] - 3s 76ms/step - loss: 1.0281 - accuracy: 0.7928 - val_loss: 1.8384 - val_accuracy: 0.6326\n",
            "Epoch 44/100\n",
            "39/40 [============================>.] - ETA: 0s - loss: 1.1803 - accuracy: 0.7444\n",
            "Epoch 00044: val_loss improved from 1.79023 to 1.76597, saving model to model.h5\n",
            "40/40 [==============================] - 3s 77ms/step - loss: 1.1812 - accuracy: 0.7440 - val_loss: 1.7660 - val_accuracy: 0.6486\n",
            "Epoch 45/100\n",
            "39/40 [============================>.] - ETA: 0s - loss: 0.9722 - accuracy: 0.7885\n",
            "Epoch 00045: val_loss improved from 1.76597 to 1.69953, saving model to model.h5\n",
            "40/40 [==============================] - 3s 77ms/step - loss: 0.9708 - accuracy: 0.7888 - val_loss: 1.6995 - val_accuracy: 0.6709\n",
            "Epoch 46/100\n",
            "39/40 [============================>.] - ETA: 0s - loss: 0.9048 - accuracy: 0.8229\n",
            "Epoch 00046: val_loss improved from 1.69953 to 1.68091, saving model to model.h5\n",
            "40/40 [==============================] - 3s 78ms/step - loss: 0.9041 - accuracy: 0.8232 - val_loss: 1.6809 - val_accuracy: 0.6741\n",
            "Epoch 47/100\n",
            "40/40 [==============================] - ETA: 0s - loss: 0.8545 - accuracy: 0.8296\n",
            "Epoch 00047: val_loss improved from 1.68091 to 1.64737, saving model to model.h5\n",
            "40/40 [==============================] - 3s 77ms/step - loss: 0.8545 - accuracy: 0.8296 - val_loss: 1.6474 - val_accuracy: 0.6613\n",
            "Epoch 48/100\n",
            "39/40 [============================>.] - ETA: 0s - loss: 0.8134 - accuracy: 0.8317\n",
            "Epoch 00048: val_loss did not improve from 1.64737\n",
            "40/40 [==============================] - 3s 76ms/step - loss: 0.8126 - accuracy: 0.8320 - val_loss: 1.6834 - val_accuracy: 0.6805\n",
            "Epoch 49/100\n",
            "39/40 [============================>.] - ETA: 0s - loss: 0.9279 - accuracy: 0.7981\n",
            "Epoch 00049: val_loss did not improve from 1.64737\n",
            "40/40 [==============================] - 3s 77ms/step - loss: 0.9272 - accuracy: 0.7984 - val_loss: 1.6792 - val_accuracy: 0.6518\n",
            "Epoch 50/100\n",
            "39/40 [============================>.] - ETA: 0s - loss: 0.8060 - accuracy: 0.8325\n",
            "Epoch 00050: val_loss improved from 1.64737 to 1.61123, saving model to model.h5\n",
            "40/40 [==============================] - 3s 78ms/step - loss: 0.8048 - accuracy: 0.8328 - val_loss: 1.6112 - val_accuracy: 0.6805\n",
            "Epoch 51/100\n",
            "39/40 [============================>.] - ETA: 0s - loss: 0.7422 - accuracy: 0.8470\n",
            "Epoch 00051: val_loss improved from 1.61123 to 1.57078, saving model to model.h5\n",
            "40/40 [==============================] - 3s 78ms/step - loss: 0.7450 - accuracy: 0.8464 - val_loss: 1.5708 - val_accuracy: 0.6837\n",
            "Epoch 52/100\n",
            "39/40 [============================>.] - ETA: 0s - loss: 0.7016 - accuracy: 0.8534\n",
            "Epoch 00052: val_loss improved from 1.57078 to 1.51420, saving model to model.h5\n",
            "40/40 [==============================] - 3s 78ms/step - loss: 0.7007 - accuracy: 0.8536 - val_loss: 1.5142 - val_accuracy: 0.7029\n",
            "Epoch 53/100\n",
            "39/40 [============================>.] - ETA: 0s - loss: 0.6680 - accuracy: 0.8646\n",
            "Epoch 00053: val_loss improved from 1.51420 to 1.49884, saving model to model.h5\n",
            "40/40 [==============================] - 3s 77ms/step - loss: 0.6686 - accuracy: 0.8640 - val_loss: 1.4988 - val_accuracy: 0.7220\n",
            "Epoch 54/100\n",
            "39/40 [============================>.] - ETA: 0s - loss: 0.6476 - accuracy: 0.8606\n",
            "Epoch 00054: val_loss improved from 1.49884 to 1.47480, saving model to model.h5\n",
            "40/40 [==============================] - 3s 80ms/step - loss: 0.6467 - accuracy: 0.8608 - val_loss: 1.4748 - val_accuracy: 0.7316\n",
            "Epoch 55/100\n",
            "39/40 [============================>.] - ETA: 0s - loss: 0.6465 - accuracy: 0.8622\n",
            "Epoch 00055: val_loss did not improve from 1.47480\n",
            "40/40 [==============================] - 3s 79ms/step - loss: 0.6456 - accuracy: 0.8624 - val_loss: 1.4864 - val_accuracy: 0.7188\n",
            "Epoch 56/100\n",
            "39/40 [============================>.] - ETA: 0s - loss: 0.6287 - accuracy: 0.8774\n",
            "Epoch 00056: val_loss did not improve from 1.47480\n",
            "40/40 [==============================] - 3s 78ms/step - loss: 0.6278 - accuracy: 0.8776 - val_loss: 1.4755 - val_accuracy: 0.7125\n",
            "Epoch 57/100\n",
            "39/40 [============================>.] - ETA: 0s - loss: 0.5976 - accuracy: 0.8862\n",
            "Epoch 00057: val_loss improved from 1.47480 to 1.44534, saving model to model.h5\n",
            "40/40 [==============================] - 3s 78ms/step - loss: 0.5989 - accuracy: 0.8856 - val_loss: 1.4453 - val_accuracy: 0.7316\n",
            "Epoch 58/100\n",
            "39/40 [============================>.] - ETA: 0s - loss: 0.5834 - accuracy: 0.8806\n",
            "Epoch 00058: val_loss improved from 1.44534 to 1.42188, saving model to model.h5\n",
            "40/40 [==============================] - 3s 78ms/step - loss: 0.5826 - accuracy: 0.8808 - val_loss: 1.4219 - val_accuracy: 0.7412\n",
            "Epoch 59/100\n",
            "39/40 [============================>.] - ETA: 0s - loss: 0.5497 - accuracy: 0.8918\n",
            "Epoch 00059: val_loss did not improve from 1.42188\n",
            "40/40 [==============================] - 3s 78ms/step - loss: 0.5491 - accuracy: 0.8920 - val_loss: 1.4345 - val_accuracy: 0.7284\n",
            "Epoch 60/100\n",
            "39/40 [============================>.] - ETA: 0s - loss: 0.5376 - accuracy: 0.8942\n",
            "Epoch 00060: val_loss improved from 1.42188 to 1.41121, saving model to model.h5\n",
            "40/40 [==============================] - 3s 79ms/step - loss: 0.5369 - accuracy: 0.8944 - val_loss: 1.4112 - val_accuracy: 0.7316\n",
            "Epoch 61/100\n",
            "39/40 [============================>.] - ETA: 0s - loss: 0.5150 - accuracy: 0.9038\n",
            "Epoch 00061: val_loss improved from 1.41121 to 1.39427, saving model to model.h5\n",
            "40/40 [==============================] - 3s 78ms/step - loss: 0.5145 - accuracy: 0.9040 - val_loss: 1.3943 - val_accuracy: 0.7380\n",
            "Epoch 62/100\n",
            "39/40 [============================>.] - ETA: 0s - loss: 0.5484 - accuracy: 0.8886\n",
            "Epoch 00062: val_loss did not improve from 1.39427\n",
            "40/40 [==============================] - 3s 77ms/step - loss: 0.5476 - accuracy: 0.8888 - val_loss: 1.4354 - val_accuracy: 0.7188\n",
            "Epoch 63/100\n",
            "40/40 [==============================] - ETA: 0s - loss: 0.4922 - accuracy: 0.8984\n",
            "Epoch 00063: val_loss did not improve from 1.39427\n",
            "40/40 [==============================] - 3s 79ms/step - loss: 0.4922 - accuracy: 0.8984 - val_loss: 1.4420 - val_accuracy: 0.7220\n",
            "Epoch 64/100\n",
            "39/40 [============================>.] - ETA: 0s - loss: 0.5355 - accuracy: 0.8982\n",
            "Epoch 00064: val_loss did not improve from 1.39427\n",
            "40/40 [==============================] - 3s 79ms/step - loss: 0.5347 - accuracy: 0.8984 - val_loss: 1.4035 - val_accuracy: 0.7412\n",
            "Epoch 65/100\n",
            "39/40 [============================>.] - ETA: 0s - loss: 0.5071 - accuracy: 0.9006\n",
            "Epoch 00065: val_loss did not improve from 1.39427\n",
            "40/40 [==============================] - 3s 78ms/step - loss: 0.5079 - accuracy: 0.9000 - val_loss: 1.4157 - val_accuracy: 0.7252\n",
            "Epoch 66/100\n",
            "39/40 [============================>.] - ETA: 0s - loss: 0.4837 - accuracy: 0.9022\n",
            "Epoch 00066: val_loss improved from 1.39427 to 1.36838, saving model to model.h5\n",
            "40/40 [==============================] - 3s 78ms/step - loss: 0.4830 - accuracy: 0.9024 - val_loss: 1.3684 - val_accuracy: 0.7412\n",
            "Epoch 67/100\n",
            "40/40 [==============================] - ETA: 0s - loss: 0.4382 - accuracy: 0.9136\n",
            "Epoch 00067: val_loss did not improve from 1.36838\n",
            "40/40 [==============================] - 3s 76ms/step - loss: 0.4382 - accuracy: 0.9136 - val_loss: 1.3772 - val_accuracy: 0.7412\n",
            "Epoch 68/100\n",
            "39/40 [============================>.] - ETA: 0s - loss: 0.4423 - accuracy: 0.9103\n",
            "Epoch 00068: val_loss improved from 1.36838 to 1.32913, saving model to model.h5\n",
            "40/40 [==============================] - 3s 77ms/step - loss: 0.4421 - accuracy: 0.9104 - val_loss: 1.3291 - val_accuracy: 0.7508\n",
            "Epoch 69/100\n",
            "39/40 [============================>.] - ETA: 0s - loss: 0.4125 - accuracy: 0.9215\n",
            "Epoch 00069: val_loss improved from 1.32913 to 1.31110, saving model to model.h5\n",
            "40/40 [==============================] - 3s 78ms/step - loss: 0.4125 - accuracy: 0.9216 - val_loss: 1.3111 - val_accuracy: 0.7540\n",
            "Epoch 70/100\n",
            "39/40 [============================>.] - ETA: 0s - loss: 0.4065 - accuracy: 0.9247\n",
            "Epoch 00070: val_loss improved from 1.31110 to 1.30367, saving model to model.h5\n",
            "40/40 [==============================] - 3s 77ms/step - loss: 0.4073 - accuracy: 0.9248 - val_loss: 1.3037 - val_accuracy: 0.7636\n",
            "Epoch 71/100\n",
            "39/40 [============================>.] - ETA: 0s - loss: 0.4030 - accuracy: 0.9199\n",
            "Epoch 00071: val_loss did not improve from 1.30367\n",
            "40/40 [==============================] - 3s 79ms/step - loss: 0.4026 - accuracy: 0.9200 - val_loss: 1.3386 - val_accuracy: 0.7572\n",
            "Epoch 72/100\n",
            "39/40 [============================>.] - ETA: 0s - loss: 0.4096 - accuracy: 0.9151\n",
            "Epoch 00072: val_loss did not improve from 1.30367\n",
            "40/40 [==============================] - 3s 78ms/step - loss: 0.4096 - accuracy: 0.9152 - val_loss: 1.3215 - val_accuracy: 0.7636\n",
            "Epoch 73/100\n",
            "40/40 [==============================] - ETA: 0s - loss: 0.3945 - accuracy: 0.9232\n",
            "Epoch 00073: val_loss improved from 1.30367 to 1.29520, saving model to model.h5\n",
            "40/40 [==============================] - 3s 79ms/step - loss: 0.3945 - accuracy: 0.9232 - val_loss: 1.2952 - val_accuracy: 0.7668\n",
            "Epoch 74/100\n",
            "39/40 [============================>.] - ETA: 0s - loss: 0.3757 - accuracy: 0.9263\n",
            "Epoch 00074: val_loss did not improve from 1.29520\n",
            "40/40 [==============================] - 3s 77ms/step - loss: 0.3751 - accuracy: 0.9264 - val_loss: 1.3612 - val_accuracy: 0.7444\n",
            "Epoch 75/100\n",
            "39/40 [============================>.] - ETA: 0s - loss: 0.3977 - accuracy: 0.9263\n",
            "Epoch 00075: val_loss did not improve from 1.29520\n",
            "40/40 [==============================] - 3s 76ms/step - loss: 0.3995 - accuracy: 0.9256 - val_loss: 1.4644 - val_accuracy: 0.7125\n",
            "Epoch 76/100\n",
            "39/40 [============================>.] - ETA: 0s - loss: 0.6278 - accuracy: 0.8574\n",
            "Epoch 00076: val_loss did not improve from 1.29520\n",
            "40/40 [==============================] - 3s 77ms/step - loss: 0.6268 - accuracy: 0.8576 - val_loss: 1.3472 - val_accuracy: 0.7476\n",
            "Epoch 77/100\n",
            "39/40 [============================>.] - ETA: 0s - loss: 0.3903 - accuracy: 0.9239\n",
            "Epoch 00077: val_loss improved from 1.29520 to 1.29020, saving model to model.h5\n",
            "40/40 [==============================] - 3s 78ms/step - loss: 0.3899 - accuracy: 0.9240 - val_loss: 1.2902 - val_accuracy: 0.7540\n",
            "Epoch 78/100\n",
            "39/40 [============================>.] - ETA: 0s - loss: 0.3571 - accuracy: 0.9239\n",
            "Epoch 00078: val_loss improved from 1.29020 to 1.26559, saving model to model.h5\n",
            "40/40 [==============================] - 3s 77ms/step - loss: 0.3569 - accuracy: 0.9240 - val_loss: 1.2656 - val_accuracy: 0.7700\n",
            "Epoch 79/100\n",
            "39/40 [============================>.] - ETA: 0s - loss: 0.3370 - accuracy: 0.9327\n",
            "Epoch 00079: val_loss improved from 1.26559 to 1.24536, saving model to model.h5\n",
            "40/40 [==============================] - 3s 77ms/step - loss: 0.3378 - accuracy: 0.9328 - val_loss: 1.2454 - val_accuracy: 0.7732\n",
            "Epoch 80/100\n",
            "39/40 [============================>.] - ETA: 0s - loss: 0.3322 - accuracy: 0.9359\n",
            "Epoch 00080: val_loss did not improve from 1.24536\n",
            "40/40 [==============================] - 3s 77ms/step - loss: 0.3336 - accuracy: 0.9352 - val_loss: 1.2863 - val_accuracy: 0.7636\n",
            "Epoch 81/100\n",
            "39/40 [============================>.] - ETA: 0s - loss: 0.3144 - accuracy: 0.9391\n",
            "Epoch 00081: val_loss improved from 1.24536 to 1.24201, saving model to model.h5\n",
            "40/40 [==============================] - 3s 78ms/step - loss: 0.3165 - accuracy: 0.9384 - val_loss: 1.2420 - val_accuracy: 0.7700\n",
            "Epoch 82/100\n",
            "39/40 [============================>.] - ETA: 0s - loss: 0.3109 - accuracy: 0.9423\n",
            "Epoch 00082: val_loss did not improve from 1.24201\n",
            "40/40 [==============================] - 3s 78ms/step - loss: 0.3105 - accuracy: 0.9424 - val_loss: 1.2751 - val_accuracy: 0.7572\n",
            "Epoch 83/100\n",
            "40/40 [==============================] - ETA: 0s - loss: 0.2911 - accuracy: 0.9456\n",
            "Epoch 00083: val_loss did not improve from 1.24201\n",
            "40/40 [==============================] - 3s 77ms/step - loss: 0.2911 - accuracy: 0.9456 - val_loss: 1.2526 - val_accuracy: 0.7668\n",
            "Epoch 84/100\n",
            "39/40 [============================>.] - ETA: 0s - loss: 0.2841 - accuracy: 0.9423\n",
            "Epoch 00084: val_loss did not improve from 1.24201\n",
            "40/40 [==============================] - 3s 78ms/step - loss: 0.2840 - accuracy: 0.9424 - val_loss: 1.2863 - val_accuracy: 0.7636\n",
            "Epoch 85/100\n",
            "39/40 [============================>.] - ETA: 0s - loss: 0.2915 - accuracy: 0.9439\n",
            "Epoch 00085: val_loss did not improve from 1.24201\n",
            "40/40 [==============================] - 3s 79ms/step - loss: 0.2911 - accuracy: 0.9440 - val_loss: 1.2977 - val_accuracy: 0.7668\n",
            "Epoch 86/100\n",
            "39/40 [============================>.] - ETA: 0s - loss: 0.2829 - accuracy: 0.9495\n",
            "Epoch 00086: val_loss did not improve from 1.24201\n",
            "40/40 [==============================] - 3s 78ms/step - loss: 0.2826 - accuracy: 0.9496 - val_loss: 1.2766 - val_accuracy: 0.7636\n",
            "Epoch 87/100\n",
            "39/40 [============================>.] - ETA: 0s - loss: 0.2688 - accuracy: 0.9503\n",
            "Epoch 00087: val_loss did not improve from 1.24201\n",
            "40/40 [==============================] - 3s 77ms/step - loss: 0.2687 - accuracy: 0.9504 - val_loss: 1.2713 - val_accuracy: 0.7668\n",
            "Epoch 88/100\n",
            "39/40 [============================>.] - ETA: 0s - loss: 0.2701 - accuracy: 0.9503\n",
            "Epoch 00088: val_loss did not improve from 1.24201\n",
            "40/40 [==============================] - 3s 78ms/step - loss: 0.2706 - accuracy: 0.9504 - val_loss: 1.2745 - val_accuracy: 0.7540\n",
            "Epoch 89/100\n",
            "39/40 [============================>.] - ETA: 0s - loss: 0.3160 - accuracy: 0.9407\n",
            "Epoch 00089: val_loss did not improve from 1.24201\n",
            "40/40 [==============================] - 3s 77ms/step - loss: 0.3156 - accuracy: 0.9408 - val_loss: 1.3190 - val_accuracy: 0.7412\n",
            "Epoch 90/100\n",
            "39/40 [============================>.] - ETA: 0s - loss: 0.2745 - accuracy: 0.9519\n",
            "Epoch 00090: val_loss improved from 1.24201 to 1.23278, saving model to model.h5\n",
            "40/40 [==============================] - 3s 78ms/step - loss: 0.2743 - accuracy: 0.9520 - val_loss: 1.2328 - val_accuracy: 0.7732\n",
            "Epoch 91/100\n",
            "39/40 [============================>.] - ETA: 0s - loss: 0.2501 - accuracy: 0.9535\n",
            "Epoch 00091: val_loss improved from 1.23278 to 1.22412, saving model to model.h5\n",
            "40/40 [==============================] - 3s 78ms/step - loss: 0.2498 - accuracy: 0.9536 - val_loss: 1.2241 - val_accuracy: 0.7604\n",
            "Epoch 92/100\n",
            "39/40 [============================>.] - ETA: 0s - loss: 0.2337 - accuracy: 0.9583\n",
            "Epoch 00092: val_loss did not improve from 1.22412\n",
            "40/40 [==============================] - 3s 78ms/step - loss: 0.2333 - accuracy: 0.9584 - val_loss: 1.2252 - val_accuracy: 0.7732\n",
            "Epoch 93/100\n",
            "39/40 [============================>.] - ETA: 0s - loss: 0.2241 - accuracy: 0.9575\n",
            "Epoch 00093: val_loss improved from 1.22412 to 1.20244, saving model to model.h5\n",
            "40/40 [==============================] - 3s 78ms/step - loss: 0.2254 - accuracy: 0.9576 - val_loss: 1.2024 - val_accuracy: 0.7859\n",
            "Epoch 94/100\n",
            "40/40 [==============================] - ETA: 0s - loss: 0.2382 - accuracy: 0.9520\n",
            "Epoch 00094: val_loss did not improve from 1.20244\n",
            "40/40 [==============================] - 3s 78ms/step - loss: 0.2382 - accuracy: 0.9520 - val_loss: 1.3335 - val_accuracy: 0.7508\n",
            "Epoch 95/100\n",
            "40/40 [==============================] - ETA: 0s - loss: 0.3073 - accuracy: 0.9360\n",
            "Epoch 00095: val_loss did not improve from 1.20244\n",
            "40/40 [==============================] - 3s 78ms/step - loss: 0.3073 - accuracy: 0.9360 - val_loss: 1.2681 - val_accuracy: 0.7444\n",
            "Epoch 96/100\n",
            "39/40 [============================>.] - ETA: 0s - loss: 0.2694 - accuracy: 0.9463\n",
            "Epoch 00096: val_loss did not improve from 1.20244\n",
            "40/40 [==============================] - 3s 78ms/step - loss: 0.2691 - accuracy: 0.9464 - val_loss: 1.2323 - val_accuracy: 0.7764\n",
            "Epoch 97/100\n",
            "39/40 [============================>.] - ETA: 0s - loss: 0.2395 - accuracy: 0.9519\n",
            "Epoch 00097: val_loss did not improve from 1.20244\n",
            "40/40 [==============================] - 3s 78ms/step - loss: 0.2393 - accuracy: 0.9520 - val_loss: 1.2308 - val_accuracy: 0.7764\n",
            "Epoch 98/100\n",
            "39/40 [============================>.] - ETA: 0s - loss: 0.2153 - accuracy: 0.9591\n",
            "Epoch 00098: val_loss did not improve from 1.20244\n",
            "40/40 [==============================] - 3s 78ms/step - loss: 0.2166 - accuracy: 0.9584 - val_loss: 1.2508 - val_accuracy: 0.7700\n",
            "Epoch 99/100\n",
            "39/40 [============================>.] - ETA: 0s - loss: 0.2562 - accuracy: 0.9543\n",
            "Epoch 00099: val_loss did not improve from 1.20244\n",
            "40/40 [==============================] - 3s 77ms/step - loss: 0.2558 - accuracy: 0.9544 - val_loss: 1.2733 - val_accuracy: 0.7764\n",
            "Epoch 100/100\n",
            "39/40 [============================>.] - ETA: 0s - loss: 0.2555 - accuracy: 0.9479\n",
            "Epoch 00100: val_loss did not improve from 1.20244\n",
            "40/40 [==============================] - 3s 77ms/step - loss: 0.2552 - accuracy: 0.9480 - val_loss: 1.2539 - val_accuracy: 0.7796\n"
          ],
          "name": "stdout"
        }
      ]
    },
    {
      "cell_type": "code",
      "metadata": {
        "id": "oKfdwumCnsyp"
      },
      "source": [
        "model = load_model(\"model.h5\")"
      ],
      "execution_count": 41,
      "outputs": []
    },
    {
      "cell_type": "code",
      "metadata": {
        "id": "2ELj9rG-ns1j"
      },
      "source": [
        "\n",
        "def predictions(text):\n",
        "  clean = re.sub(r'[^ a-z A-Z 0-9]', \" \", text)\n",
        "  test_word = word_tokenize(clean)\n",
        "  test_word = [w.lower() for w in test_word]\n",
        "  test_ls = word_tokenizer.texts_to_sequences(test_word)\n",
        "  #Check for unknown words\n",
        "  if [] in test_ls:\n",
        "    test_ls = list(filter(None, test_ls))\n",
        "    \n",
        "  test_ls = np.array(test_ls).reshape(1, len(test_ls))\n",
        " \n",
        "  x = padding_doc(test_ls, max_length)\n",
        "  \n",
        "  pred = model.predict_proba(x)\n",
        "  \n",
        "  \n",
        "  return pred"
      ],
      "execution_count": 59,
      "outputs": []
    },
    {
      "cell_type": "code",
      "metadata": {
        "id": "4LqZQ65kntNU"
      },
      "source": [
        "def get_final_output(pred, classes):\n",
        "  predictions = pred[0]\n",
        " \n",
        "  classes = np.array(classes)\n",
        "  ids = np.argsort(-predictions)\n",
        "  classes = classes[ids]\n",
        "  predictions = -np.sort(-predictions)\n",
        "  return (\"%s has confidence = %s\" % (classes[0], (predictions[0])))\n",
        "  for i in range(pred.shape[1]):\n",
        "    print(\"%s has confidence = %s\" % (classes[i], (predictions[i])))"
      ],
      "execution_count": 60,
      "outputs": []
    },
    {
      "cell_type": "code",
      "metadata": {
        "id": "J2uLnh_a3gxr",
        "colab": {
          "base_uri": "https://localhost:8080/",
          "height": 35
        },
        "outputId": "cd4c33d0-8b3a-429c-942f-c025df0374d2"
      },
      "source": [
        "pred = predictions(\"How do I apply for a consumer finance loan?\")\n",
        "get_final_output(pred, output_col[0])"
      ],
      "execution_count": 61,
      "outputs": [
        {
          "output_type": "execute_result",
          "data": {
            "application/vnd.google.colaboratory.intrinsic+json": {
              "type": "string"
            },
            "text/plain": [
              "'How do I apply for a consumer finance loan? has confidence = 0.97698784'"
            ]
          },
          "metadata": {
            "tags": []
          },
          "execution_count": 61
        }
      ]
    },
    {
      "cell_type": "code",
      "metadata": {
        "id": "2CiJlHgM4X6l",
        "colab": {
          "base_uri": "https://localhost:8080/"
        },
        "outputId": "1843ef00-3f14-42e6-9939-29a9925f21c9"
      },
      "source": [
        "for text in output_col[0]:\n",
        "  pred = predictions(text)\n",
        "  print(\"for \", text, \"pred is \", get_final_output(pred, output_col[0]))"
      ],
      "execution_count": 64,
      "outputs": [
        {
          "output_type": "stream",
          "text": [
            "for  Account related queries pred is  Account related queries has confidence = 0.80287427\n",
            "for  AllinCall App pred is  AllinCall App has confidence = 0.22690672\n",
            "for  Are you serious pred is  Are you serious has confidence = 0.8586412\n",
            "for  Can I apply for AllinCall Gold Loan online? pred is  Can I apply for AllinCall Gold Loan online? has confidence = 0.97562534\n",
            "for  Can I apply for Sovereign Gold Bond through AllinCall bank Account? How can I apply for Sovereign Gold Bond online? pred is  Can I apply for Sovereign Gold Bond through AllinCall bank Account? How can I apply for Sovereign Gold Bond online? has confidence = 0.99362034\n",
            "for  Can I apply for life insurance policy through my AllinCall bank app? pred is  Can I apply for life insurance policy through my AllinCall bank app? has confidence = 0.98157066\n",
            "for  Can I book a Fixed Deposit through my AllinCall bank Account? pred is  Do I get a free debit card with my AllinCall bank Account? has confidence = 0.5618386\n",
            "for  Can I check my account details from AllinCall app? pred is  Can I check my account details from AllinCall app? has confidence = 0.980072\n",
            "for  Can I close my account online? pred is  Can I close my account online? has confidence = 0.94140375\n",
            "for  Can I deposit cash ? pred is  Can I deposit cash ? has confidence = 0.5689032\n",
            "for  Can I do Full KYC online pred is  Can I do Full KYC online has confidence = 0.97075474\n",
            "for  Can I do Systematic Investment Plan (SIP) through the investment account? pred is  Can I do Systematic Investment Plan (SIP) through the investment account? has confidence = 0.9779609\n",
            "for  Can I foreclose the gold loan earlier? pred is  Can I foreclose the gold loan earlier? has confidence = 0.9818204\n",
            "for  Can I get image debit card pred is  Can I get image debit card has confidence = 0.9739745\n",
            "for  Can I open AllinCall bank online? pred is  Can I open AllinCall bank online? has confidence = 0.76906157\n",
            "for  Can I open RD account in my AllinCall bank digital account? pred is  Can I open a joint AllinCall bank account? has confidence = 0.31418982\n",
            "for  Can I open a joint AllinCall bank account? pred is  Can I open a joint AllinCall bank account? has confidence = 0.91836977\n",
            "for  Can I open investment account and how can I open an investment account through my AllinCall bank bank account? pred is  Can I open investment account and how can I open an investment account through my AllinCall bank bank account? has confidence = 0.99379784\n",
            "for  Can I pay electricity bills through my AllinCall account? pred is  Can I pay electricity bills through my AllinCall account? has confidence = 0.9333106\n",
            "for  Can I recharge my phone through my AllinCall account? How can I do mobile recharge online through mobile bank app? pred is  Can I recharge my phone through my AllinCall account? How can I do mobile recharge online through mobile bank app? has confidence = 0.98943263\n",
            "for  Can I redeem the RD amount before the maturity period? pred is  Can I redeem the RD amount before the maturity period? has confidence = 0.9888259\n",
            "for  Can I set autopay bill option through my AllinCall bank Account? How can I set the autopay option? pred is  Can I set autopay bill option through my AllinCall bank Account? How can I set the autopay option? has confidence = 0.9945919\n",
            "for  Can I transfer money from AllinCall mobile banking app? pred is  Can I transfer money from AllinCall mobile banking app? has confidence = 0.988781\n",
            "for  Can I use Sovereign Gold Bond as collateral for loans? pred is  Can I use Sovereign Gold Bond as collateral for loans? has confidence = 0.98028207\n",
            "for  Can I use my AllinCall debit for international transactions? pred is  Can I use my AllinCall debit for international transactions? has confidence = 0.62639606\n",
            "for  Charges for Full KYC pred is  Charges for Full KYC has confidence = 0.604247\n",
            "for  Credit limits for my account pred is  Credit limits for my account has confidence = 0.7117619\n",
            "for  Debit Card related queries pred is  Debit Card related queries has confidence = 0.8952524\n",
            "for  Do I get a free debit card with my AllinCall bank Account? pred is  Do I get a free debit card with my AllinCall bank Account? has confidence = 0.9461382\n",
            "for  Do I have to be in India for Video KYC? pred is  Do I have to be in India for Video KYC? has confidence = 0.8763242\n",
            "for  Do I need Aadhaar ? pred is  Do I need Aadhaar ? has confidence = 0.7274978\n",
            "for  Do I need a demat account to open investment account? pred is  Do I need a demat account to open investment account? has confidence = 0.9869543\n",
            "for  Do I need physical PAN card for Video KYC? pred is  Do I need physical PAN card for Video KYC? has confidence = 0.9630758\n",
            "for  Do I need to apply for virtual debit card? pred is  Do I need to apply for virtual debit card? has confidence = 0.93301475\n",
            "for  Do I need to book an FD to apply for AllinCall bank #DreamDifferent Credit Card? pred is  Do I need to book an FD to apply for AllinCall bank #DreamDifferent Credit Card? has confidence = 0.98352057\n",
            "for  Do I need to complete the full KYC to apply for a physical debit card? pred is  Do I need to complete the full KYC to apply for a physical debit card? has confidence = 0.7874794\n",
            "for  Do I need to have current address proof for video KYC? pred is  Do I need to have current address proof for video KYC? has confidence = 0.97258264\n",
            "for  Do I need to provide any income documents for gold loan? pred is  Do I need to provide any income documents for gold loan? has confidence = 0.98309153\n",
            "for  Do I need to visit a bank branch to invest in Sovereign Gold Bonds? pred is  Do I need to visit a bank branch to invest in Sovereign Gold Bonds? has confidence = 0.9917247\n",
            "for  Do I need to visit bank branch to apply for physical debit card? pred is  Do I need to visit bank branch to apply for physical debit card? has confidence = 0.9223056\n",
            "for  Documents for AllinCall bank pred is  Documents for AllinCall bank has confidence = 0.71230197\n",
            "for  FATCA Declaration pred is  How to apply for chequebook? has confidence = 0.06960942\n",
            "for  Fees and charges for AllinCall bank account pred is  Fees and charges for AllinCall bank account has confidence = 0.91627145\n",
            "for  Fraud pred is  Fraud has confidence = 0.24846077\n",
            "for  Full KYC related queries pred is  Debit Card related queries has confidence = 0.2303917\n",
            "for  Helpful pred is  Hi has confidence = 0.16356295\n",
            "for  Hi pred is  Hi has confidence = 0.3338746\n",
            "for  How are you doing pred is  How are you doing has confidence = 0.8404728\n",
            "for  How can I Add money/transfer money to AllinCall bank Account? pred is  How can I Add money/transfer money to AllinCall bank Account? has confidence = 0.6743238\n",
            "for  How can I add billers through my AllinCall account? pred is  How can I add billers through my AllinCall account? has confidence = 0.95462304\n",
            "for  How can I apply for AllinCall Gold Loan? pred is  How can I apply for AllinCall Gold Loan? has confidence = 0.9717451\n",
            "for  How can I apply for life insurance? pred is  How can I apply for life insurance? has confidence = 0.9787677\n",
            "for  How can I apply for physical debit card? pred is  How can I apply for physical debit card? has confidence = 0.9153378\n",
            "for  How can I cancel the autopay of my bill payments? pred is  How can I cancel the autopay of my bill payments? has confidence = 0.98687416\n",
            "for  How can I check the maturity date of my fixed deposit online? pred is  How can I check the maturity date of my fixed deposit online? has confidence = 0.97874546\n",
            "for  How can I check the status of my physical debit card application? pred is  How can I check the status of my physical debit card application? has confidence = 0.9913828\n",
            "for  How can I complete my Full KYC pred is  How can I complete my Full KYC has confidence = 0.9912908\n",
            "for  How can I do transactions? pred is  How can I do transactions? has confidence = 0.830681\n",
            "for  How can I increase the credit limit on AllinCall #DreamDifferent Credit Card? pred is  How can I increase the credit limit on AllinCall #DreamDifferent Credit Card? has confidence = 0.98039186\n",
            "for  How can I make online payments through my AllinCall bank Account pred is  How can I make online payments through my AllinCall bank Account has confidence = 0.99410915\n",
            "for  How can I open Recurring Deposit? pred is  Can I book a Fixed Deposit through my AllinCall bank Account? has confidence = 0.42746848\n",
            "for  How can I pay DTH bill? pred is  How can I pay DTH bill? has confidence = 0.9547213\n",
            "for  How can I pay electricity bill? pred is  How can I pay electricity bill? has confidence = 0.75559086\n",
            "for  How can I see my account? pred is  How can I see my account? has confidence = 0.9561488\n",
            "for  How can I set the PIN of my debit card? pred is  I forgot the PIN of my debit card. How can I reset the PIN of my debit card? has confidence = 0.5369642\n",
            "for  How can I use my virtual debit card to shop online? pred is  How can I use my virtual debit card to shop online? has confidence = 0.9939972\n",
            "for  How can I view my recent bill payments made through my AllinCall account? pred is  What is the time taken for the deposited cash to reflect in my AllinCall account? has confidence = 0.35346392\n",
            "for  How can I withdraw money without debit card pred is  How can I withdraw money without debit card has confidence = 0.97349787\n",
            "for  How can pay my recurring deposit installment that is due today? pred is  How can pay my recurring deposit installment that is due today? has confidence = 0.99101967\n",
            "for  How do I apply for a consumer finance loan? pred is  How do I apply for a consumer finance loan? has confidence = 0.97698784\n",
            "for  How do I change my Mobile number? pred is  How do I change my Mobile number? has confidence = 0.9883315\n",
            "for  How do I check pre-approved offers for AllinCall Consumer finance? pred is  How do I check pre-approved offers for AllinCall Consumer finance? has confidence = 0.98990226\n",
            "for  How do I create MPIN? pred is  How do I create MPIN? has confidence = 0.968776\n",
            "for  How do I create a PIN for my Virtual debit card? pred is  How do I create a PIN for my Virtual debit card? has confidence = 0.9908099\n",
            "for  How do I do fund transfer pred is  what do I do after opening AllinCall? has confidence = 0.60911036\n",
            "for  How do I login? pred is  How do I login? has confidence = 0.44737634\n",
            "for  How do I need to pay for my physical debit card? pred is  How do I need to pay for my physical debit card? has confidence = 0.9817322\n",
            "for  How do I set my MPIN after video KYC? pred is  How do I set my MPIN after video KYC? has confidence = 0.95315224\n",
            "for  How do I set password for my Net Banking? pred is  How do I set password for my Net Banking? has confidence = 0.9833372\n",
            "for  How do I start using the Mobile Banking App after opening my account? pred is  What is the time taken for the deposited cash to reflect in my AllinCall account? has confidence = 0.7052702\n",
            "for  How do I view my Virtual Debit Card in the Mobile Banking App? pred is  How do I view my Virtual Debit Card in the Mobile Banking App? has confidence = 0.9896606\n",
            "for  How many days will it take for the physical debit card to reach my communication address? pred is  How many days will it take for the physical debit card to reach my communication address? has confidence = 0.9933929\n",
            "for  How much time will it take to receive a demand draft after my AllinCall account is closed? pred is  How much time will it take to receive a demand draft after my AllinCall account is closed? has confidence = 0.9873754\n",
            "for  How to Apply for Debit Card? pred is  How to Apply for Debit Card? has confidence = 0.9146147\n",
            "for  How to I see my account statements through app? pred is  How to I see my account statements through app? has confidence = 0.98401767\n",
            "for  How to apply for chequebook? pred is  How to apply for chequebook? has confidence = 0.9530503\n",
            "for  How to apply for passbook? pred is  How to apply for passbook? has confidence = 0.91512805\n",
            "for  How to change my address after KYC? pred is  How to change my address after KYC? has confidence = 0.99296135\n",
            "for  How to change my email id after KYC? pred is  How to change my email id after KYC? has confidence = 0.9494846\n",
            "for  How to check the history of my term deposit? pred is  How to check the history of my term deposit? has confidence = 0.98244977\n",
            "for  How to close my account? pred is  How to close my account? has confidence = 0.90251744\n",
            "for  How to open AllinCall? pred is  How to open AllinCall? has confidence = 0.8385407\n",
            "for  How to open Video KYC account? pred is  How to open Video KYC account? has confidence = 0.8671244\n",
            "for  How to recover CRN? pred is  How to recover CRN? has confidence = 0.6847009\n",
            "for  How to reset/change MPIN? pred is  How to reset/change MPIN? has confidence = 0.8639022\n",
            "for  How to update my date of birth in AllinCall bank account? pred is  How to update my date of birth in AllinCall bank account? has confidence = 0.9557521\n",
            "for  How to update my name in AllinCall bank account? pred is  Can I open a joint AllinCall bank account? has confidence = 0.38254443\n",
            "for  I am not able to place a request for physical debit card. What should I do? pred is  I am not able to place a request for physical debit card. What should I do? has confidence = 0.97114253\n",
            "for  I do not see my virtual debit card pred is  I do not see my virtual debit card has confidence = 0.9655149\n",
            "for  I don’t have a PAN card pred is  I don’t have a PAN card has confidence = 0.95291513\n",
            "for  I don’t have an Aadhaar card. How do I open an account? pred is  I don’t have an Aadhaar card. How do I open an account? has confidence = 0.9868379\n",
            "for  I dropped from the video kyc journey. What do I do? pred is  I dropped from the video kyc journey. What do I do? has confidence = 0.97864956\n",
            "for  I forgot the PIN of my debit card. How can I reset the PIN of my debit card? pred is  How can I set the PIN of my debit card? has confidence = 0.39853102\n",
            "for  I have a low credit score. Can I apply for AllinCall bank #DreamDifferent Credit Card? pred is  I have a low credit score. Can I apply for AllinCall bank #DreamDifferent Credit Card? has confidence = 0.9702232\n",
            "for  I haven't yet received a debit card with my AllinCall bank account? When will I receive a debit card? pred is  I haven't yet received a debit card with my AllinCall bank account? When will I receive a debit card? has confidence = 0.97581756\n",
            "for  I opened my AllinCall bank but didn't receive any debit card? pred is  I opened my AllinCall bank but didn't receive any debit card? has confidence = 0.97391146\n",
            "for  I received my debit card. How do I know if it is active or not? pred is  I received my debit card. How do I know if it is active or not? has confidence = 0.978609\n",
            "for  I want to activate my account when will it be activated? pred is  I want to activate my account when will it be activated? has confidence = 0.96627384\n",
            "for  Is the charge of a physical debit card a one-time payment or a recurring payment? pred is  Is the charge of a physical debit card a one-time payment or a recurring payment? has confidence = 0.97603536\n",
            "for  Is there any annual maintenance fee charged on a AllinCall bank virtual debit card? pred is  Is there any annual maintenance fee charged on a AllinCall bank virtual debit card? has confidence = 0.8718514\n",
            "for  Is there any charge for getting physical debit card? pred is  Is there any charge for getting physical debit card? has confidence = 0.93016475\n",
            "for  Is there any charge for virtual debit card? pred is  Is there any charge for virtual debit card? has confidence = 0.9255581\n",
            "for  Is there any charge or processing fee for using AllinCall bank debit card on Netflix, Prime etc? pred is  Is there any charge or processing fee for using AllinCall bank debit card on Netflix, Prime etc? has confidence = 0.96952146\n",
            "for  Login related queries pred is  Login related queries has confidence = 0.44993582\n",
            "for  My account got blocked pred is  My account got blocked has confidence = 0.95894235\n",
            "for  My communication address is different from my Aadhaar address. Can I carry out the video KYC process? pred is  Can I redeem the RD amount before the maturity period? has confidence = 0.2886954\n",
            "for  My debit card was stolen pred is  My debit card was stolen has confidence = 0.92406934\n",
            "for  My virtual card is blocked and it says it will be available after 2 days pred is  My virtual card is blocked and it says it will be available after 2 days has confidence = 0.9796296\n",
            "for  No one came for Full KYC pred is  No one came for Full KYC has confidence = 0.89481694\n",
            "for  Open AllinCall pred is  Open AllinCall has confidence = 0.46886933\n",
            "for  PEP pred is  Fraud has confidence = 0.16041096\n",
            "for  Start pred is  Hi has confidence = 0.20409043\n",
            "for  Stop pred is  Hi has confidence = 0.15483686\n",
            "for  Tell me a joke pred is  Tell me a joke has confidence = 0.82733995\n",
            "for  The charge of the physical debit card was debited from my account. However, I didn’t receive the physical debit card yet. When will I receive my debit card? pred is  The charge of the physical debit card was debited from my account. However, I didn’t receive the physical debit card yet. When will I receive my debit card? has confidence = 0.9792864\n",
            "for  Unhelpful pred is  Hi has confidence = 0.14608118\n",
            "for  What are Sovereign Gold Bonds? pred is  What are Sovereign Gold Bonds? has confidence = 0.94951874\n",
            "for  What are the benefits of Full KYC? pred is  What are the benefits of Full KYC? has confidence = 0.9270649\n",
            "for  What are the benefits of SIP? pred is  What are the benefits of SIP? has confidence = 0.9789483\n",
            "for  What are the benefits of Sweepin facility? pred is  What are the benefits of Sweepin facility? has confidence = 0.8994205\n",
            "for  What are the benefits of investing in Sovereign Gold Bonds? pred is  What are the benefits of investing in Sovereign Gold Bonds? has confidence = 0.99298865\n",
            "for  What are the charges to open an Investment Account? pred is  What are the charges to open an Investment Account? has confidence = 0.9925377\n",
            "for  What are the features and benefits of AllinCall RD? pred is  What are the features and benefits of AllinCall RD? has confidence = 0.98621386\n",
            "for  What are the features of AllinCall Consumer Finance ? pred is  What are the features of AllinCall Consumer Finance ? has confidence = 0.98272806\n",
            "for  What are the features of AllinCall Gold Loan? pred is  What are the features of AllinCall Gold Loan? has confidence = 0.9801626\n",
            "for  What are the features of AllinCall bank Video Kyc account? pred is  What are the features of AllinCall bank Video Kyc account? has confidence = 0.99691534\n",
            "for  What are the features of AllinCall bank account? pred is  What are the features of AllinCall bank account? has confidence = 0.97504777\n",
            "for  What are the interest rates on AllinCall Bank Recurring Deposit? pred is  What are the interest rates on AllinCall Bank Recurring Deposit? has confidence = 0.9739275\n",
            "for  What are the processing fees for gold loan? pred is  What are the processing fees for gold loan? has confidence = 0.9861994\n",
            "for  What bills can I pay through AllinCall mobile app? pred is  What bills can I pay through AllinCall mobile app? has confidence = 0.9643341\n",
            "for  What do I do if my account is frozen? pred is  What do I do if my account is frozen? has confidence = 0.97862303\n",
            "for  What documents are needed to open Recurring Deposit? pred is  What documents are needed to open Recurring Deposit? has confidence = 0.95998245\n",
            "for  What documents do I need to book an FD? pred is  What documents do I need to book an FD? has confidence = 0.65032685\n",
            "for  What is AllinCall Edge pred is  What is AllinCall Edge has confidence = 0.85453695\n",
            "for  What is AllinCall FKYC account pred is  What is AllinCall FKYC account has confidence = 0.95904297\n",
            "for  What is AllinCall Group Accident Protect? pred is  What is AllinCall Group Accident Protect? has confidence = 0.9828273\n",
            "for  What is AllinCall Group Smart Cash? pred is  What is AllinCall Group Smart Cash? has confidence = 0.9531847\n",
            "for  What is AllinCall Limited pred is  What is AllinCall Limited has confidence = 0.75550604\n",
            "for  What is AllinCall Lite pred is  What is AllinCall Lite has confidence = 0.8409631\n",
            "for  What is AllinCall bank DreamDifferent pred is  What is AllinCall bank DreamDifferent has confidence = 0.7746059\n",
            "for  What is AllinCall bank DreamDifferent Credit card? pred is  What is AllinCall bank DreamDifferent Credit card? has confidence = 0.98600835\n",
            "for  What is AllinCall bank Prepaid card? pred is  What is AllinCall bank Prepaid card? has confidence = 0.9693731\n",
            "for  What is AllinCall bank? pred is  What is AllinCall bank? has confidence = 0.31848568\n",
            "for  What is Full KYC? pred is  What is Full KYC? has confidence = 0.64039254\n",
            "for  What is IMPS pred is  What is IMPS has confidence = 0.45877263\n",
            "for  What is MPIN? pred is  What is MPIN? has confidence = 0.72990376\n",
            "for  What is NEFT pred is  What is NEFT has confidence = 0.31760746\n",
            "for  What is Secure One? pred is  What is Secure One? has confidence = 0.9411278\n",
            "for  What is autosweep facility? pred is  What is autosweep facility? has confidence = 0.85041445\n",
            "for  What is investment account in AllinCall? pred is  What is investment account in AllinCall? has confidence = 0.9644221\n",
            "for  What is my CRN? pred is  What is my CRN? has confidence = 0.7860009\n",
            "for  What is my home branch? pred is  What is my home branch? has confidence = 0.87665737\n",
            "for  What is the average monthly balance (AMB)? pred is  What is the average monthly balance (AMB)? has confidence = 0.99316615\n",
            "for  What is the interest rate of AllinCall bank? pred is  What is the interest rate of AllinCall bank? has confidence = 0.9847837\n",
            "for  What is the interest rate on AllinCall FD? pred is  What is the interest rate on AllinCall FD? has confidence = 0.82071334\n",
            "for  What is the limit for atm cash withdrawal in AllinCall bank account? pred is  What is the limit for atm cash withdrawal in AllinCall bank account? has confidence = 0.97574973\n",
            "for  What is the method to find out folio numbers of all MF investments? pred is  What is the method to find out folio numbers of all MF investments? has confidence = 0.99454594\n",
            "for  What is the minimum amount to open Fixed Deposit? pred is  What is the minimum amount to open Fixed Deposit? has confidence = 0.9908875\n",
            "for  What is the minimum investment amount in Sovereign Gold Bonds? pred is  What is the minimum investment amount in Sovereign Gold Bonds? has confidence = 0.9916414\n",
            "for  What is the premium amount of AllinCall Group Accident Protect? pred is  What is the premium amount of AllinCall Group Accident Protect? has confidence = 0.98962957\n",
            "for  What is the premium amount of AllinCall Group Smart Cash? pred is  What is the premium amount of AllinCall Group Smart Cash? has confidence = 0.9896774\n",
            "for  What is the premium amount of Secure One? pred is  What is the premium amount of Secure One? has confidence = 0.9423685\n",
            "for  What is the process for redeemIng mutual funds? pred is  What is the process for redeemIng mutual funds? has confidence = 0.9916779\n",
            "for  What is the rate of interest of Sovereign Gold Bonds and how will the interest be paid? pred is  What is the rate of interest of Sovereign Gold Bonds and how will the interest be paid? has confidence = 0.9939592\n",
            "for  What is the time taken for the deposited cash to reflect in my AllinCall account? pred is  What is the time taken for the deposited cash to reflect in my AllinCall account? has confidence = 0.9746494\n",
            "for  What is virtual debit card? pred is  What is virtual debit card? has confidence = 0.6007087\n",
            "for  What needs to be done to get mutual fund statement pred is  What needs to be done to get mutual fund statement has confidence = 0.9543507\n",
            "for  What type of debit card is AllinCall bank Debit Card? pred is  What type of debit card is AllinCall bank Debit Card? has confidence = 0.9601587\n",
            "for  What will be the credit pred is  What is the average monthly balance (AMB)? has confidence = 0.59426445\n",
            "for  What's the difference between virtual debit card card and physical debit card? pred is  What's the difference between virtual debit card card and physical debit card? has confidence = 0.9853895\n",
            "for  What's the minimum RD amount? pred is  What's the minimum RD amount? has confidence = 0.9744805\n",
            "for  When will I get account details after video KYC? pred is  When will I get account details after video KYC? has confidence = 0.95463777\n",
            "for  Where can I See my account details? pred is  Where can I See my account details? has confidence = 0.9713662\n",
            "for  Where can I get my account statement? pred is  Where can I get my account statement? has confidence = 0.93870336\n",
            "for  Where can I see the CVV number of my AllinCall bank virtual debit card? pred is  Where can I see the CVV number of my AllinCall bank virtual debit card? has confidence = 0.98098606\n",
            "for  Where can I update my profile details (Email/Nominee) pred is  Where can I update my profile details (Email/Nominee) has confidence = 0.89621955\n",
            "for  Where can see my account balance & transactions? pred is  Where can see my account balance & transactions? has confidence = 0.8595637\n",
            "for  Where is nearest branch or ATM pred is  How can I complete my Full KYC has confidence = 0.27781126\n",
            "for  Where will I find my virtual debit card details? pred is  Where will I find my virtual debit card details? has confidence = 0.95617974\n",
            "for  Where will I receive my physical debit card? pred is  Where will I receive my physical debit card? has confidence = 0.9535982\n",
            "for  Which browser is needed for Video KYC? pred is  Which browser is needed for Video KYC? has confidence = 0.9358919\n",
            "for  Who can open AllinCall account pred is  Who can open AllinCall account has confidence = 0.8524174\n",
            "for  Why can't I do Video KYC? pred is  How do I create MPIN? has confidence = 0.6079702\n",
            "for  Why do I need MPIN? pred is  Why do I need MPIN? has confidence = 0.95158607\n",
            "for  Why is Full KYC necessary? pred is  Why is Full KYC necessary? has confidence = 0.7907126\n",
            "for  Why is the location consent needed? pred is  What is the average monthly balance (AMB)? has confidence = 0.4605717\n",
            "for  Why money is getting deducted from account? pred is  Why money is getting deducted from account? has confidence = 0.9968291\n",
            "for  Why my account is under freeze? pred is  Why my account is under freeze? has confidence = 0.9284795\n",
            "for  Why should I book an Fixed Deposit? pred is  Why should I book an Fixed Deposit? has confidence = 0.967469\n",
            "for  Will you marry me pred is  Will you marry me has confidence = 0.8132206\n",
            "for  bye pred is  bye has confidence = 0.19884019\n",
            "for  how do I create my UPI/VPA Id pred is  how do I create my UPI/VPA Id has confidence = 0.9773333\n",
            "for  what do I do after opening AllinCall? pred is  what do I do after opening AllinCall? has confidence = 0.9202471\n"
          ],
          "name": "stdout"
        }
      ]
    },
    {
      "cell_type": "code",
      "metadata": {
        "id": "fOJHwtHsoSv6"
      },
      "source": [
        ""
      ],
      "execution_count": null,
      "outputs": []
    }
  ]
}